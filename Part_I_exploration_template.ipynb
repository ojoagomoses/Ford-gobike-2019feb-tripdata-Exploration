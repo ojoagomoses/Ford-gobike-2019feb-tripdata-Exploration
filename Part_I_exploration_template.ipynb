{
 "cells": [
  {
   "cell_type": "markdown",
   "metadata": {},
   "source": [
    "# Part I - Exploratory data Analysis on the Ford gobike 2019feb tripdata\n",
    "## by Moses Ojonuba\n",
    "\n",
    "## Introduction\n",
    "\n",
    "Ford GoBike is a regional public bicycle sharing system in the San Francisco Bay Area, California. \n",
    "\n",
    "Ford GoBike, like other bike share systems, consists of a fleet of specially designed, sturdy and durable bikes that are locked into a network of docking stations throughout the city. The bikes can be unlocked from one station and returned to any other station in the system, making them ideal for one-way trips. The bikes are available for use 24 hours/day, 7 days/week, 365 days/year and riders have access to all bikes in the network when they become a member or purchase a pass.\n",
    "\n",
    "This data set includes information about individual rides made in Ford GoBike bike-sharing system covering the greater San Francisco Bay area\n",
    "\n",
    "\n",
    "#### Dataset Dictionary:\n",
    "\n",
    "- duration_sec: Trip Duration (seconds)\n",
    "- start_time>: Start Time and Date\n",
    "- end_time: End Time and Date\n",
    "- start_station_id: Start Station ID\n",
    "- start_station_name: Start Station Name\n",
    "- start_station_latitude: Start Station Latitude\n",
    "- start_station_longitude: Start Station Longitude\n",
    "- end_station_id: End Station ID\n",
    "- end_station_name: End Station Name\n",
    "- end_station_latitude: End Station Latitude\n",
    "- end_station_longitude: End Station Longitude\n",
    "- bike_id: Bike ID\n",
    "- user_type: User Type (Subscriber or Customer – “Subscriber” = Member or “Customer” = Casual)\n",
    "- member_birth_year: Member Year of Birth\n",
    "- member_gender: Member Gender\n",
    "- bike_share_for_all_trip: Boolean to track members who are enrolled in the \"Bike Share for All\" program for low-income residents\n",
    "\n",
    "\n",
    "\n",
    "## Preliminary Wrangling\n"
   ]
  },
  {
   "cell_type": "code",
   "execution_count": null,
   "metadata": {},
   "outputs": [],
   "source": [
    "# import all packages and set plots to be embedded inline\n",
    "import numpy as np\n",
    "import pandas as pd\n",
    "from datetime import datetime\n",
    "import matplotlib.pyplot as plt\n",
    "import seaborn as sns\n",
    "!pip install plotly==5.9.0 --quiet\n",
    "import plotly.express as px\n",
    "%matplotlib inline"
   ]
  },
  {
   "cell_type": "code",
   "execution_count": null,
   "metadata": {},
   "outputs": [],
   "source": [
    "sns.set_style('darkgrid')\n",
    "plt.rcParams['font.size'] = 12\n",
    "plt.rcParams['figure.figsize'] = (8, 6)\n",
    "plt.rcParams['figure.facecolor'] = '#00000000'"
   ]
  },
  {
   "cell_type": "code",
   "execution_count": null,
   "metadata": {
    "scrolled": true
   },
   "outputs": [],
   "source": [
    "#loading data\n",
    "rides_df = pd.read_csv('201902-fordgobike-tripdata.csv')\n",
    "\n",
    "rides_df.head()\n"
   ]
  },
  {
   "cell_type": "code",
   "execution_count": null,
   "metadata": {},
   "outputs": [],
   "source": [
    "rides_df.shape"
   ]
  },
  {
   "cell_type": "code",
   "execution_count": null,
   "metadata": {
    "scrolled": false
   },
   "outputs": [],
   "source": [
    "rides_df.info()"
   ]
  },
  {
   "cell_type": "code",
   "execution_count": null,
   "metadata": {
    "scrolled": true
   },
   "outputs": [],
   "source": [
    "rides_df.isna().sum().sort_values()"
   ]
  },
  {
   "cell_type": "code",
   "execution_count": null,
   "metadata": {},
   "outputs": [],
   "source": [
    "rides_df.duplicated().sum()"
   ]
  },
  {
   "cell_type": "code",
   "execution_count": null,
   "metadata": {},
   "outputs": [],
   "source": [
    "rides_df.user_type.unique()"
   ]
  },
  {
   "cell_type": "code",
   "execution_count": null,
   "metadata": {},
   "outputs": [],
   "source": [
    "rides_df.member_gender.unique()"
   ]
  },
  {
   "cell_type": "code",
   "execution_count": null,
   "metadata": {},
   "outputs": [],
   "source": [
    "rides_df.bike_share_for_all_trip.unique()"
   ]
  },
  {
   "cell_type": "markdown",
   "metadata": {},
   "source": [
    "from Assesment\n",
    "change datatype\n",
    "drop missing values"
   ]
  },
  {
   "cell_type": "code",
   "execution_count": null,
   "metadata": {},
   "outputs": [],
   "source": [
    "rides_df.dropna(inplace=True)"
   ]
  },
  {
   "cell_type": "code",
   "execution_count": null,
   "metadata": {
    "scrolled": true
   },
   "outputs": [],
   "source": [
    "#convert to string\n",
    "rides_df[['start_station_id', 'end_station_id', 'bike_id']] = rides_df[['start_station_id', 'end_station_id', 'bike_id']].astype(str)\n",
    "\n",
    "\n",
    "rides_df['member_birth_year'] =rides_df['member_birth_year'].astype(int)\n",
    "\n",
    "rides_df[['start_time', 'end_time']] = rides_df[['start_time', 'end_time']].apply(pd.to_datetime)"
   ]
  },
  {
   "cell_type": "code",
   "execution_count": null,
   "metadata": {
    "scrolled": false
   },
   "outputs": [],
   "source": [
    "rides_df.info()"
   ]
  },
  {
   "cell_type": "markdown",
   "metadata": {},
   "source": [
    "### What is the structure of your dataset?\n",
    "\n",
    "> The Dataset has 183412 rows, and 16 columns\n",
    "\n",
    "### What is/are the main feature(s) of interest in your dataset?\n",
    "\n",
    "> Average Age of Riders, Average Duration of Trips, Gender distribution of Riders, Ditribution of User type.\n",
    "\n",
    "### What features in the dataset do you think will help support your investigation into your feature(s) of interest?\n",
    "\n",
    "> birth year, duration, gender and user type variables"
   ]
  },
  {
   "cell_type": "markdown",
   "metadata": {},
   "source": [
    "## Univariate Exploration\n",
    "##### Q. What are the distribution of age?"
   ]
  },
  {
   "cell_type": "code",
   "execution_count": null,
   "metadata": {},
   "outputs": [],
   "source": [
    "#create an age column\n",
    "rides_df['age'] = 2019 - rides_df['member_birth_year']"
   ]
  },
  {
   "cell_type": "code",
   "execution_count": null,
   "metadata": {},
   "outputs": [],
   "source": [
    "rides_df.head(3)"
   ]
  },
  {
   "cell_type": "code",
   "execution_count": null,
   "metadata": {
    "scrolled": true
   },
   "outputs": [],
   "source": [
    "rides_df['age'].describe()"
   ]
  },
  {
   "cell_type": "markdown",
   "metadata": {},
   "source": [
    "our age columns seems to have quite a number of outliers seeing that 75% of the individuals are below 39 years old. the maximum age there is 141 which is likely an error. let us visualize it for a clearer picture"
   ]
  },
  {
   "cell_type": "code",
   "execution_count": null,
   "metadata": {
    "scrolled": false
   },
   "outputs": [],
   "source": [
    "plt.boxplot(rides_df['age'], vert=False)\n",
    "plt.xlabel('Age')\n",
    "plt.title('Distribution of Age');"
   ]
  },
  {
   "cell_type": "markdown",
   "metadata": {},
   "source": [
    "##### Observation\n",
    "As we can see from the boxplot above, we have quite a number of outliers. we have alot of people in the senior's category of age. this is certainly expected because seniors are encouraged to ride bikes as a form of excercise therefore we would consider these outliers as legitimate data point. however we doubt the possibility of someone riding a bike at age 141 or even at age 119. we have no such record of someone been alive at age 141 as at 2019 and even they existed, it would certainly be risky to allow them to ride a bike.\n",
    "\n",
    "to deal with this, we will set our age limit for this analysis to be 100."
   ]
  },
  {
   "cell_type": "code",
   "execution_count": null,
   "metadata": {},
   "outputs": [],
   "source": [
    "high = rides_df[\"age\"] < 101\n",
    "\n",
    "rides = rides_df[high]\n",
    "\n",
    "rides.age.describe()"
   ]
  },
  {
   "cell_type": "code",
   "execution_count": null,
   "metadata": {
    "scrolled": false
   },
   "outputs": [],
   "source": [
    "rides['age'].hist(bins= 20);\n",
    "plt.xlabel('Age')\n",
    "plt.ylabel('Count')\n",
    "plt.title('Age Distribution');"
   ]
  },
  {
   "cell_type": "markdown",
   "metadata": {},
   "source": [
    "From the histogram distribution plot above, we can see that most of the riders are within the age of 25 and 35."
   ]
  },
  {
   "cell_type": "markdown",
   "metadata": {},
   "source": [
    "##### Q What is the distribution of trip Duration?"
   ]
  },
  {
   "cell_type": "code",
   "execution_count": null,
   "metadata": {},
   "outputs": [],
   "source": [
    "rides['duration_sec'].describe()"
   ]
  },
  {
   "cell_type": "code",
   "execution_count": null,
   "metadata": {
    "scrolled": false
   },
   "outputs": [],
   "source": [
    "rides['duration_sec'].hist(bins=500)\n",
    "plt.xlabel('Duration[Sec]')\n",
    "plt.title('Distribution of Trip Duration');"
   ]
  },
  {
   "cell_type": "markdown",
   "metadata": {},
   "source": [
    "##### Observation\n",
    "\n",
    "the trip Duration histogram is highly skewed due to the long duration of  some trips. as a result of this, we will be using the median in answering other questions related to duration. we are using the median because it is not affected by outliers unlike mean."
   ]
  },
  {
   "cell_type": "markdown",
   "metadata": {},
   "source": [
    "##### Q What is the distribution of gender?"
   ]
  },
  {
   "cell_type": "code",
   "execution_count": null,
   "metadata": {
    "scrolled": false
   },
   "outputs": [],
   "source": [
    "fig= px.pie(rides, names='member_gender', width=600, height=300, title='Distribution of Gender')\n",
    "\n",
    "fig.show()"
   ]
  },
  {
   "cell_type": "markdown",
   "metadata": {},
   "source": [
    "##### Observation\n",
    "\n",
    "A large percentage of the riders are male(74%). thrice as much as the female(23%).\n",
    "\n",
    "According to the investigation carried out by Elizabeth Plank at the bike paths of New York City, Turns out way more men ride bikes than women: “In the U.S., 1 woman for every 3 men gets around on a bicycle”. \n",
    "\n",
    "According to Plank “In London, 77% of bike trips are taken by men and only 5% of women identify as frequent cyclists.”\n",
    "\n",
    "https://slate.com/human-interest/2014/09/gender-gap-alert-men-ride-bikes-way-more-than-women-do.html"
   ]
  },
  {
   "cell_type": "markdown",
   "metadata": {},
   "source": [
    "##### Q What is the distribution of User type?"
   ]
  },
  {
   "cell_type": "code",
   "execution_count": null,
   "metadata": {},
   "outputs": [],
   "source": [
    "#define a function to plot categorical feature\n",
    "def plot_cat(var, l=8,b=5):\n",
    "    plt.figure(figsize = (l, b))\n",
    "    sns.countplot(rides[var], order = rides_df[var].value_counts().index)"
   ]
  },
  {
   "cell_type": "code",
   "execution_count": null,
   "metadata": {
    "scrolled": true
   },
   "outputs": [],
   "source": [
    "#call function to plot countplot\n",
    "plot_cat('user_type')"
   ]
  },
  {
   "cell_type": "markdown",
   "metadata": {},
   "source": [
    "##### Observation\n",
    "\n",
    "over 90% of riders in our dataset are subscriber. that means they pay  subscription fee which could be monthly or year. only a small percentage of the riders are customers. that means they pay at the station or Kiosk per every trip."
   ]
  },
  {
   "cell_type": "markdown",
   "metadata": {},
   "source": [
    "##### Q. What percentage of riders are part of the Bike share for all Trip Program?"
   ]
  },
  {
   "cell_type": "code",
   "execution_count": null,
   "metadata": {},
   "outputs": [],
   "source": [
    "plot_cat('bike_share_for_all_trip')"
   ]
  },
  {
   "cell_type": "markdown",
   "metadata": {},
   "source": [
    "##### Observation\n",
    "A large percentage of riders are not part of the program. we don't have detailed information to know the reason for this"
   ]
  },
  {
   "cell_type": "markdown",
   "metadata": {},
   "source": [
    "## Bivariate Exploration"
   ]
  },
  {
   "cell_type": "markdown",
   "metadata": {},
   "source": [
    "##### Q. What the average duration of trip for the categories of gender?"
   ]
  },
  {
   "cell_type": "code",
   "execution_count": null,
   "metadata": {},
   "outputs": [],
   "source": [
    "rides.groupby('member_gender')['duration_sec'].median()"
   ]
  },
  {
   "cell_type": "code",
   "execution_count": null,
   "metadata": {
    "scrolled": false
   },
   "outputs": [],
   "source": [
    "rides.groupby('member_gender')['duration_sec'].median().sort_values(ascending=False).plot(kind='bar')\n",
    "plt.xlabel('Gender')\n",
    "plt.ylabel('Duration[sec]')\n",
    "plt.title('Average Duration of Trips for Gender');"
   ]
  },
  {
   "cell_type": "markdown",
   "metadata": {},
   "source": [
    "##### Observation\n",
    "Female go on longer trips (567 seconds or aproximately 10mins). though the difference is much from the trip duration for males."
   ]
  },
  {
   "cell_type": "markdown",
   "metadata": {},
   "source": [
    "##### Q. What the average duration of trip for the categories of  user type?"
   ]
  },
  {
   "cell_type": "code",
   "execution_count": null,
   "metadata": {},
   "outputs": [],
   "source": [
    "rides.groupby('user_type')['duration_sec'].median()"
   ]
  },
  {
   "cell_type": "code",
   "execution_count": null,
   "metadata": {
    "scrolled": false
   },
   "outputs": [],
   "source": [
    "rides.groupby('user_type')['duration_sec'].median().plot(kind='bar')\n",
    "plt.xlabel('User Type')\n",
    "plt.ylabel('Duration[Sec]')\n",
    "plt.title('Average Duration of Trips for User Type');\n"
   ]
  },
  {
   "cell_type": "markdown",
   "metadata": {},
   "source": [
    "##### Observation\n",
    "Customers go on a longer trip (780 sec or 13mins) than Subscribers(490 secs or 9mins)."
   ]
  },
  {
   "cell_type": "markdown",
   "metadata": {},
   "source": [
    "##### Q. Which week of the month did people go on longer rides?"
   ]
  },
  {
   "cell_type": "code",
   "execution_count": null,
   "metadata": {},
   "outputs": [],
   "source": [
    "rides_df['ride_start_week'] = rides_df['start_time'].dt.week\n",
    "rides_df.groupby('ride_start_week')['duration_sec'].median()"
   ]
  },
  {
   "cell_type": "code",
   "execution_count": null,
   "metadata": {},
   "outputs": [],
   "source": [
    "rides_df.groupby('ride_start_week')['duration_sec'].median().sort_values().plot(kind='barh')\n",
    "plt.xlabel('Duration[Sec]')\n",
    "plt.ylabel('Week of the Month')\n",
    "plt.title('Duration of Trips per Week of the Month');"
   ]
  },
  {
   "cell_type": "markdown",
   "metadata": {},
   "source": [
    "###### Observation\n",
    "\n",
    "riders went on longer trip in the fourth week(8). the average trip duration for the fourth week was 532 sec or aproximately 8mins. though no much difference from other weeks"
   ]
  },
  {
   "cell_type": "markdown",
   "metadata": {},
   "source": [
    "###### Q. Which day of the week did riders go on longer trip?"
   ]
  },
  {
   "cell_type": "code",
   "execution_count": null,
   "metadata": {
    "scrolled": true
   },
   "outputs": [],
   "source": [
    "# Add a column for the weekday of the start of the ride\n",
    "rides_df['ride_start_weekday'] = rides_df['start_time'].dt.day_name()\n",
    "\n",
    "# Print the median trip time per weekday\n",
    "print(rides_df.groupby('ride_start_weekday')['duration_sec'].median())"
   ]
  },
  {
   "cell_type": "code",
   "execution_count": null,
   "metadata": {
    "scrolled": false
   },
   "outputs": [],
   "source": [
    "rides_df.groupby('ride_start_weekday')['duration_sec'].median().sort_values(ascending=False).plot(kind='bar')\n",
    "plt.xlabel('Week Day')\n",
    "plt.ylabel('Duration[Sec]')\n",
    "plt.title('Average Duration of Trips on Weekdays');"
   ]
  },
  {
   "cell_type": "markdown",
   "metadata": {},
   "source": [
    "##### Observation\n",
    "Riders went on longer trips on Weekends (Saturdays and Sundays)"
   ]
  },
  {
   "cell_type": "markdown",
   "metadata": {},
   "source": [
    "##### Q. Is There a relationship between Age and Duration?"
   ]
  },
  {
   "cell_type": "code",
   "execution_count": null,
   "metadata": {
    "scrolled": false
   },
   "outputs": [],
   "source": [
    "fig = px.scatter(rides_df, x='age', y='duration_sec', title='Duration vs Age')\n",
    "fig.show()"
   ]
  },
  {
   "cell_type": "markdown",
   "metadata": {},
   "source": [
    "##### Observation \n",
    "There is no linear relationship between age and duration of a trip. However most people who took longer trips were between the age of 25 and 45"
   ]
  },
  {
   "cell_type": "markdown",
   "metadata": {},
   "source": [
    "##### Q. What is the distribution of the locations accross sans Franscisco?"
   ]
  },
  {
   "cell_type": "code",
   "execution_count": null,
   "metadata": {},
   "outputs": [],
   "source": [
    "fig = px.scatter_mapbox(\n",
    "    rides_df,  # Our DataFrame\n",
    "    lat='start_station_latitude',\n",
    "    lon='start_station_longitude',\n",
    "    center={\"lat\": 37.773972, \"lon\": -122.431297},  # Map will be centered on San Francisco\n",
    "    width=600,  # Width of map\n",
    "    height=600,  # Height of map\n",
    "    hover_data=['start_station_name'],  # Display Station name when hovering mouse over station\n",
    "    title = 'Dsitribution of Stations'\n",
    ")\n",
    "\n",
    "fig.update_layout(mapbox_style=\"open-street-map\")\n",
    "\n",
    "fig.show()"
   ]
  },
  {
   "cell_type": "markdown",
   "metadata": {},
   "source": [
    "###### Observation\n",
    "there are three clusters of the various bike stations"
   ]
  },
  {
   "cell_type": "markdown",
   "metadata": {},
   "source": [
    "## Multivariate Exploration\n",
    "\n",
    "some riders take a bike from a station and returns it back to the same station. let us call such trips as round_trips"
   ]
  },
  {
   "cell_type": "code",
   "execution_count": null,
   "metadata": {},
   "outputs": [],
   "source": [
    "# Create round trips\n",
    "trips = (rides['start_station_name'] == rides['end_station_name'])"
   ]
  },
  {
   "cell_type": "code",
   "execution_count": null,
   "metadata": {},
   "outputs": [],
   "source": [
    "round_trips = rides[trips]"
   ]
  },
  {
   "cell_type": "code",
   "execution_count": null,
   "metadata": {},
   "outputs": [],
   "source": [
    "len(round_trips)"
   ]
  },
  {
   "cell_type": "markdown",
   "metadata": {},
   "source": [
    "3458 of the trips were round_trips. the bikes were picked and dropped and the same station"
   ]
  },
  {
   "cell_type": "markdown",
   "metadata": {},
   "source": [
    "##### Q. What is the Age Distribution for the categories of Gender who took a round trip?"
   ]
  },
  {
   "cell_type": "code",
   "execution_count": null,
   "metadata": {},
   "outputs": [],
   "source": [
    "#Plot an Histogram\n",
    "fig = px.histogram(round_trips, \n",
    "                   x='age', \n",
    "                   color='member_gender',\n",
    "                   marginal='box', \n",
    "                   nbins=50, \n",
    "                   title='Distribution of Age for Gender')\n",
    "fig.update_layout(bargap=0.1)\n",
    "fig.show()"
   ]
  },
  {
   "cell_type": "markdown",
   "metadata": {},
   "source": [
    "###### Observation\n",
    "\n",
    " The average age of males who took round trips is 36,  while that of female is 29"
   ]
  },
  {
   "cell_type": "markdown",
   "metadata": {},
   "source": [
    "##### Q. What is the Age Distribution for the categories of Users who took a round trip?"
   ]
  },
  {
   "cell_type": "code",
   "execution_count": null,
   "metadata": {
    "scrolled": false
   },
   "outputs": [],
   "source": [
    "fig = px.histogram(round_trips, \n",
    "                   x='age', \n",
    "                   color='user_type',\n",
    "                   marginal='box', \n",
    "                   nbins=47, \n",
    "                   title='Distribution of Age of User Type')\n",
    "fig.update_layout(bargap=0.1)\n",
    "fig.show()"
   ]
  },
  {
   "cell_type": "markdown",
   "metadata": {},
   "source": [
    "##### Observation\n",
    "The average age of customers who took round trips is 30,  while that of Subscriber is 31"
   ]
  },
  {
   "cell_type": "markdown",
   "metadata": {},
   "source": [
    "##### Q. What is Distribution of Trip Duration for Gender"
   ]
  },
  {
   "cell_type": "code",
   "execution_count": null,
   "metadata": {},
   "outputs": [],
   "source": [
    "fig = px.histogram(round_trips, \n",
    "                   x='duration_sec', \n",
    "                   color='member_gender',\n",
    "                   marginal='box', \n",
    "                   nbins=75, \n",
    "                   title='Distribution of Trip Duration for Gender')\n",
    "fig.update_layout(bargap=0.1)\n",
    "fig.show()"
   ]
  },
  {
   "cell_type": "markdown",
   "metadata": {},
   "source": [
    "##### Observation\n",
    " The average duration of round trip for female (1114 secs or 18mins) is greater than that of Male (910 secs or 15mins). females took longer time than males"
   ]
  },
  {
   "cell_type": "code",
   "execution_count": null,
   "metadata": {
    "scrolled": false
   },
   "outputs": [],
   "source": [
    "#plot Histogram\n",
    "fig = px.histogram(round_trips, \n",
    "                   x='duration_sec', \n",
    "                   color='user_type',\n",
    "                   marginal='box', \n",
    "                   nbins=75, \n",
    "                   title='Distribution of Trip Duration for User Type')\n",
    "fig.update_layout(bargap=0.1)\n",
    "fig.show()"
   ]
  },
  {
   "cell_type": "markdown",
   "metadata": {},
   "source": [
    "##### Observation\n",
    "customers spends an average time of 1680.5 secs or 28mins on round trips while subscribers spends an average time of 757secs or 12mins"
   ]
  },
  {
   "cell_type": "markdown",
   "metadata": {},
   "source": [
    "## Conclusions\n",
    "- A large percentage of the riders are male(74%). thrice as much as the female(23%).\n",
    "\n",
    "- over 90% of riders in our dataset are subscriber. that means they pay subscription fee which could be monthly or year. only a small percentage of the riders are customers. that means they pay at the station or Kiosk per every trip.\n",
    "- Female go on longer trips (567 seconds or aproximately 10mins). though the difference is much from the trip duration for males.\n",
    "- Customers go on a longer trip (780 sec or 13mins) than Subscribers(490 secs or 9mins).\n",
    "- Riders went on longer trips on Weekends (Saturdays and Sundays)\n",
    "- There is no linear relationship between age and duration of a trip. However most people who took longer trips were between the age of 25 and 45"
   ]
  }
 ],
 "metadata": {
  "kernelspec": {
   "display_name": "Python 3",
   "language": "python",
   "name": "python3"
  },
  "language_info": {
   "codemirror_mode": {
    "name": "ipython",
    "version": 3
   },
   "file_extension": ".py",
   "mimetype": "text/x-python",
   "name": "python",
   "nbconvert_exporter": "python",
   "pygments_lexer": "ipython3",
   "version": "3.6.3"
  }
 },
 "nbformat": 4,
 "nbformat_minor": 2
}
